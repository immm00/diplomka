{
 "cells": [
  {
   "cell_type": "markdown",
   "id": "72f4c581-cfb9-4c2a-bf39-b1bf5d9c052f",
   "metadata": {},
   "source": [
    "# Sentiment analysis on extracted dataset - classic ML approach"
   ]
  },
  {
   "cell_type": "markdown",
   "id": "8734f609-fd51-4b0e-8f7d-7bdb3a7804db",
   "metadata": {},
   "source": [
    "Applying simple SVM and Max Entropy (Logistic Regression) on the extracted dataset. Using 10-fold cross-validation."
   ]
  },
  {
   "cell_type": "code",
   "execution_count": 2,
   "id": "68f06203-d11e-4fc0-b169-6f8fb11a57d5",
   "metadata": {},
   "outputs": [],
   "source": [
    "import pandas as pd\n",
    "from sklearn.feature_extraction.text import TfidfVectorizer\n",
    "from sklearn.svm import SVC\n",
    "from sklearn.metrics import accuracy_score, classification_report\n",
    "from sklearn.model_selection import train_test_split\n",
    "import pickle"
   ]
  },
  {
   "cell_type": "markdown",
   "id": "0bbb403d-7763-4e88-822f-3ce0c115bd84",
   "metadata": {},
   "source": [
    "### Loading data"
   ]
  },
  {
   "cell_type": "code",
   "execution_count": 9,
   "id": "348b4a78-a94b-4314-a989-41e7f665a98d",
   "metadata": {},
   "outputs": [],
   "source": [
    "#load from excel\n",
    "def load_from_excel(file_name, text_header, label_header, pos_label, neg_label, neu_label, sheet_name=0):\n",
    "    df = pd.read_excel(file_name, sheet_name=sheet_name, usecols=[text_header, label_header])\n",
    "    df.rename(columns={text_header: 'texts', label_header: 'labels'}, inplace=True)\n",
    "\n",
    "    label_mapping = {pos_label: 'p', neg_label: 'n', neu_label: '0'}\n",
    "    df['labels'] = df['labels'].replace(label_mapping)\n",
    "    df = df[df['labels'].isin([pos_label, neg_label, neu_label])]\n",
    "    \n",
    "    print('data loaded')\n",
    "    \n",
    "    return df"
   ]
  },
  {
   "cell_type": "code",
   "execution_count": 33,
   "id": "2c00c96f-31b6-4eb1-b5cc-8dc199c9f2a0",
   "metadata": {},
   "outputs": [
    {
     "name": "stdout",
     "output_type": "stream",
     "text": [
      "data loaded\n"
     ]
    }
   ],
   "source": [
    "data = load_from_excel('extracted_dataset.xlsx', 'Text', 'Immer', 'p', 'n', '0')"
   ]
  },
  {
   "cell_type": "markdown",
   "id": "a39e0f25-9307-4b7e-bf67-f18c78430843",
   "metadata": {},
   "source": [
    "### Methods for getting and summarizing the results (report for each fold and then average for all)"
   ]
  },
  {
   "cell_type": "code",
   "execution_count": 26,
   "id": "93ae0657-a6fd-4741-b057-f8f44e12b27c",
   "metadata": {},
   "outputs": [],
   "source": [
    "def get_report(label_col, pred_col, output_dict=False):\n",
    "    report = classification_report(label_col, pred_col, output_dict=output_dict)\n",
    "    return report\n",
    "\n",
    "def avg_reports(*args):\n",
    "    mean_dict = dict()\n",
    "    for label in reports[0].keys():\n",
    "        dictionary = dict()\n",
    "\n",
    "        if label in 'accuracy':\n",
    "            mean_dict[label] = sum(d[label] for d in reports) / len(reports)\n",
    "            continue\n",
    "\n",
    "        for key in reports[0][label].keys():\n",
    "            dictionary[key] = sum(d[label][key] for d in reports) / len(reports)\n",
    "        mean_dict[label] = dictionary\n",
    "\n",
    "    return mean_dict"
   ]
  },
  {
   "cell_type": "markdown",
   "id": "083d1b5d-5e28-4074-a260-f1ea53b2824e",
   "metadata": {},
   "source": [
    "### Using SVC"
   ]
  },
  {
   "cell_type": "code",
   "execution_count": 27,
   "id": "d40b08c2-a43f-49d2-bc25-5bec9f0aebbe",
   "metadata": {},
   "outputs": [
    {
     "name": "stdout",
     "output_type": "stream",
     "text": [
      "{'0': {'precision': 0.5697392408435108, 'recall': 0.5571626304981014, 'f1-score': 0.5630748941046918, 'support': 197.4}, 'n': {'precision': 0.6138254324705915, 'recall': 0.6173941679854986, 'f1-score': 0.6151772128034447, 'support': 192.4}, 'p': {'precision': 0.5829469751868663, 'recall': 0.5925999725543032, 'f1-score': 0.5873166715453804, 'support': 190.3}, 'accuracy': 0.5890385186064455, 'macro avg': {'precision': 0.5888372161669896, 'recall': 0.5890522570126344, 'f1-score': 0.5885229261511723, 'support': 580.1}, 'weighted avg': {'precision': 0.5896890516823137, 'recall': 0.5890385186064455, 'f1-score': 0.5889417528312559, 'support': 580.1}}\n"
     ]
    }
   ],
   "source": [
    "from sklearn.model_selection import KFold\n",
    "from sklearn.feature_extraction.text import TfidfVectorizer\n",
    "from sklearn.svm import SVC\n",
    "from sklearn.metrics import accuracy_score\n",
    "\n",
    "kf = KFold(n_splits=10, shuffle=True, random_state=1)\n",
    "reports = []\n",
    "vectorizer = TfidfVectorizer()\n",
    "\n",
    "for train_index, test_index in kf.split(data):\n",
    "    train_df = data.iloc[train_index]\n",
    "    test_df = data.iloc[test_index]\n",
    "    \n",
    "    X_train = train_df.iloc[:, 1]\n",
    "    y_train = train_df.iloc[:, 0]\n",
    "    X_test = test_df.iloc[:, 1]\n",
    "    y_test = test_df.iloc[:, 0]\n",
    "    \n",
    "    X_train_vec = vectorizer.fit_transform(X_train)\n",
    "    X_test_vec = vectorizer.transform(X_test)\n",
    "    \n",
    "    model = SVC(kernel='linear')\n",
    "    model.fit(X_train_vec, y_train)\n",
    "    \n",
    "    y_pred = model.predict(X_test_vec)\n",
    "\n",
    "    report = get_report(y_pred, y_test, output_dict=True)\n",
    "    reports.append(report)\n",
    "\n",
    "avg_report = avg_reports(reports)\n",
    "print(avg_report)"
   ]
  },
  {
   "cell_type": "markdown",
   "id": "259a035a-1df8-4674-86d3-2fcfb64ac052",
   "metadata": {},
   "source": [
    "### Using Max Entropy (Logistic Regression)"
   ]
  },
  {
   "cell_type": "code",
   "execution_count": 28,
   "id": "2bfea105-e060-4682-b110-35944a3370bc",
   "metadata": {},
   "outputs": [
    {
     "name": "stdout",
     "output_type": "stream",
     "text": [
      "{'0': {'precision': 0.557613285780765, 'recall': 0.5611477317641295, 'f1-score': 0.5590075138228174, 'support': 191.8}, 'n': {'precision': 0.6213881499036613, 'recall': 0.6122218671847743, 'f1-score': 0.6164671201594818, 'support': 196.2}, 'p': {'precision': 0.5866798615862718, 'recall': 0.5912620337085766, 'f1-score': 0.5882186185403022, 'support': 192.1}, 'accuracy': 0.5885215739806516, 'macro avg': {'precision': 0.5885604324235659, 'recall': 0.58821054421916, 'f1-score': 0.5878977508408672, 'support': 580.1}, 'weighted avg': {'precision': 0.5898918851713522, 'recall': 0.5885215739806516, 'f1-score': 0.588713665902263, 'support': 580.1}}\n"
     ]
    }
   ],
   "source": [
    "from sklearn.model_selection import KFold\n",
    "from sklearn.feature_extraction.text import TfidfVectorizer\n",
    "from sklearn.linear_model import LogisticRegression\n",
    "from sklearn.metrics import accuracy_score\n",
    "\n",
    "kf = KFold(n_splits=10, shuffle=True, random_state=1)\n",
    "reports = []\n",
    "vectorizer = TfidfVectorizer()\n",
    "\n",
    "for train_index, test_index in kf.split(data):\n",
    "    train_df = data.iloc[train_index]\n",
    "    test_df = data.iloc[test_index]\n",
    "    \n",
    "    X_train = train_df.iloc[:, 1]\n",
    "    y_train = train_df.iloc[:, 0]\n",
    "    X_test = test_df.iloc[:, 1]\n",
    "    y_test = test_df.iloc[:, 0]\n",
    "    \n",
    "    X_train_vec = vectorizer.fit_transform(X_train)\n",
    "    X_test_vec = vectorizer.transform(X_test)\n",
    "    \n",
    "    model = LogisticRegression(max_iter=1000) \n",
    "    model.fit(X_train_vec, y_train)\n",
    "    \n",
    "    y_pred = model.predict(X_test_vec)\n",
    "\n",
    "    report = get_report(y_pred, y_test, output_dict=True)\n",
    "    reports.append(report)\n",
    "\n",
    "avg_report = avg_reports(reports)\n",
    "print(avg_report)"
   ]
  },
  {
   "cell_type": "code",
   "execution_count": 35,
   "id": "24677fc1-9bc4-4e9b-9fdd-9a4fbc423fe4",
   "metadata": {},
   "outputs": [
    {
     "name": "stdout",
     "output_type": "stream",
     "text": [
      "Data has been split into 10 folds and saved in 'output_folds'\n"
     ]
    }
   ],
   "source": [
    "import os\n",
    "import pandas as pd\n",
    "from sklearn.model_selection import KFold\n",
    "\n",
    "# Define label mapping to folder names\n",
    "label_mapping = {'p': 'positive', 'n': 'negative', '0': 'neutral'}\n",
    "\n",
    "# Create KFold splitter\n",
    "kf = KFold(n_splits=10, shuffle=True, random_state=1)\n",
    "\n",
    "# Base output directory\n",
    "output_dir = \"output_folds\"\n",
    "os.makedirs(output_dir, exist_ok=True)\n",
    "\n",
    "# Create folds\n",
    "for fold, (train_idx, test_idx) in enumerate(kf.split(data), 1):\n",
    "    fold_dir = os.path.join(output_dir, f\"fold_{fold}\")\n",
    "    for split, indices in [(\"train\", train_idx), (\"test\", test_idx)]:\n",
    "        for label, folder in label_mapping.items():\n",
    "            split_dir = os.path.join(fold_dir, split, folder)\n",
    "            os.makedirs(split_dir, exist_ok=True)\n",
    "        \n",
    "        # Save texts to corresponding folders\n",
    "        for idx in indices:\n",
    "            text = data.iloc[idx][\"texts\"]\n",
    "            label = data.iloc[idx][\"labels\"]\n",
    "            label_folder = os.path.join(fold_dir, split, label_mapping[label])\n",
    "            # Write text to a .txt file\n",
    "            text_file_path = os.path.join(label_folder, f\"text_{idx}.txt\")\n",
    "            with open(text_file_path, \"w\", encoding=\"utf-8\") as f:\n",
    "                f.write(text)\n",
    "\n",
    "print(f\"Data has been split into 10 folds and saved in '{output_dir}'\")\n"
   ]
  }
 ],
 "metadata": {
  "kernelspec": {
   "display_name": "Python 3 (ipykernel)",
   "language": "python",
   "name": "python3"
  },
  "language_info": {
   "codemirror_mode": {
    "name": "ipython",
    "version": 3
   },
   "file_extension": ".py",
   "mimetype": "text/x-python",
   "name": "python",
   "nbconvert_exporter": "python",
   "pygments_lexer": "ipython3",
   "version": "3.11.5"
  }
 },
 "nbformat": 4,
 "nbformat_minor": 5
}
